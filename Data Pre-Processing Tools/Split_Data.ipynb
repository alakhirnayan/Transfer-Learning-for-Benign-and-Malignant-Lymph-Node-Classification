{
 "cells": [
  {
   "cell_type": "code",
   "execution_count": 1,
   "id": "87acc802",
   "metadata": {},
   "outputs": [],
   "source": [
    "import splitfolders"
   ]
  },
  {
   "cell_type": "code",
   "execution_count": 2,
   "id": "a6d9b746",
   "metadata": {},
   "outputs": [],
   "source": [
    "input_folder = '/data/Lymph_Data/Output/'"
   ]
  },
  {
   "cell_type": "code",
   "execution_count": 3,
   "id": "22121cc9",
   "metadata": {},
   "outputs": [],
   "source": [
    "output = '/root/Downloads/V/data/'"
   ]
  },
  {
   "cell_type": "code",
   "execution_count": 4,
   "id": "4e4fb695",
   "metadata": {},
   "outputs": [],
   "source": [
    "splitfolders.ratio(input_folder, output, seed=42, ratio=(0.7, 0.2, 0.1), group_prefix = None)"
   ]
  },
  {
   "cell_type": "code",
   "execution_count": 4,
   "id": "c883644e",
   "metadata": {},
   "outputs": [],
   "source": [
    "splitfolders.fixed(input_folder, output, seed=42, fixed=(30000,20000,10000),oversample=False, group_prefix=None)"
   ]
  },
  {
   "cell_type": "code",
   "execution_count": null,
   "id": "502a1b49",
   "metadata": {},
   "outputs": [],
   "source": []
  }
 ],
 "metadata": {
  "kernelspec": {
   "display_name": "Python 3",
   "language": "python",
   "name": "python3"
  },
  "language_info": {
   "codemirror_mode": {
    "name": "ipython",
    "version": 3
   },
   "file_extension": ".py",
   "mimetype": "text/x-python",
   "name": "python",
   "nbconvert_exporter": "python",
   "pygments_lexer": "ipython3",
   "version": "3.6.9"
  }
 },
 "nbformat": 4,
 "nbformat_minor": 5
}
